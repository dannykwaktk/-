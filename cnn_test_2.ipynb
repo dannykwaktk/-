{
  "nbformat": 4,
  "nbformat_minor": 0,
  "metadata": {
    "colab": {
      "name": "cnn_test_2.ipynb",
      "provenance": [],
      "collapsed_sections": [],
      "authorship_tag": "ABX9TyPKdbVbuSvMDJtyGfZf0Lpc",
      "include_colab_link": true
    },
    "kernelspec": {
      "name": "python3",
      "display_name": "Python 3"
    }
  },
  "cells": [
    {
      "cell_type": "markdown",
      "metadata": {
        "id": "view-in-github",
        "colab_type": "text"
      },
      "source": [
        "<a href=\"https://colab.research.google.com/github/dannykwaktk/-/blob/master/cnn_test_2.ipynb\" target=\"_parent\"><img src=\"https://colab.research.google.com/assets/colab-badge.svg\" alt=\"Open In Colab\"/></a>"
      ]
    },
    {
      "cell_type": "code",
      "metadata": {
        "id": "Jy8J1766OJBt",
        "colab_type": "code",
        "colab": {
          "base_uri": "https://localhost:8080/",
          "height": 869
        },
        "outputId": "0ada1d68-dcbd-42d8-8db2-7fa656315328"
      },
      "source": [
        "import tensorflow as tf\n",
        "import keras \n",
        "\n",
        "from keras.models import Sequential\n",
        "from keras.layers import Conv2D, MaxPooling2D, Dense,Flatten, AveragePooling2D\n",
        "from keras.optimizers import Adam\n",
        "from keras.losses import sparse_categorical_crossentropy as scc\n",
        "from keras.datasets import cifar10\n",
        "\n",
        "import numpy as np\n",
        "\n",
        "def build_model(width, height, channel):\n",
        "    model = Sequential()      # 이 모델에 순차적으로 레이어를 쌓아가겠다(초기화)\n",
        "    \n",
        "    model.add(Conv2D(         # add : 모델에 요소를 하나씩 추가해주는 함수\n",
        "                              # Conv2D : \n",
        "        filters=16,           \n",
        "        kernel_size=(3,3),    # n*n에 해당하는 수\n",
        "        padding='same',\n",
        "        activation='relu',\n",
        "        input_shape=(width, height, channel)\n",
        "    ))\n",
        "    model.add(Conv2D(\n",
        "        filters=16,\n",
        "        kernel_size=(3,3),\n",
        "        padding='same',\n",
        "        activation='relu'\n",
        "    ))\n",
        "    model.add(MaxPooling2D(     # 2*2공간 안에 가장 큰 값\n",
        "        pool_size=(2,2),        # 몇 곱하기 몇 공간에서 뽑을 것인가\n",
        "        padding='same'\n",
        "    ))\n",
        "\n",
        "    model.add(Conv2D(\n",
        "        filters=32,\n",
        "        kernel_size=(3,3),\n",
        "        padding='same',\n",
        "        activation='relu'\n",
        "    ))\n",
        "    model.add(Conv2D(\n",
        "        filters=64,\n",
        "        kernel_size=(3,3),\n",
        "        padding='same',\n",
        "        activation='relu'\n",
        "    ))\n",
        "    model.add(MaxPooling2D(\n",
        "        pool_size=(4,4),\n",
        "        padding='same'\n",
        "    ))\n",
        "\n",
        "    model.add(Flatten())\n",
        "    model.add(Dense(          \n",
        "        units=640,\n",
        "        activation='relu'\n",
        "    ))\n",
        "    model.add(Dense(\n",
        "        units=10,\n",
        "        activation='softmax'\n",
        "    ))\n",
        "\n",
        "    opt = Adam(learning_rate=0.001)\n",
        "    model.compile(            # 레이어로 만들어진 모델을 실행, 활용할 수 있는 상태로 만들어주는 함수\n",
        "        optimizer=opt,\n",
        "        loss=scc,\n",
        "        metrics=['accuracy']\n",
        "    )\n",
        "\n",
        "    return model\n",
        "\n",
        "def data_preprocessing():\n",
        "    (X_train, Y_train), (X_test, Y_test) = cifar10.load_data()\n",
        "\n",
        "    mean=[0,0,0]\n",
        "    std=[0,0,0]\n",
        "    newX_train = np.ones(X_train.shape)\n",
        "    newX_test = np.ones(X_test.shape)\n",
        "    #train set에 있는 데이터로만 평균과 표준편차를 구함\n",
        "    for i in range(3):\n",
        "        mean[i] = np.mean(X_train[:,:,:,i])\n",
        "        std[i] = np.std(X_train[:,:,:,i])\n",
        "\n",
        "    #train과 test셋 모두 정규화 작업    \n",
        "    for i in range(3):\n",
        "        newX_train[:,:,:,i] = X_train[:,:,:,i] - mean[i]\n",
        "        newX_train[:,:,:,i] = newX_train[:,:,:,i] / std[i]\n",
        "        newX_test[:,:,:,i] = X_test[:,:,:,i] - mean[i]\n",
        "        newX_test[:,:,:,i] = newX_test[:,:,:,i] / std[i]\n",
        "            \n",
        "    X_train = newX_train\n",
        "    X_test = newX_test\n",
        "\n",
        "    return (X_train, Y_train), (X_test, Y_test)\n",
        "\n",
        "if __name__ == \"__main__\":\n",
        "    #(X_train, Y_train), (X_test, Y_test) = data_preprocessing()\n",
        "    (X_train, Y_train), (X_test, Y_test) = cifar10.load_data()\n",
        "    model = build_model(X_train.shape[1], X_train.shape[2], X_train.shape[3])\n",
        "\n",
        "    hist = model.fit(                # 원하는 결과를 도출할 수 있도록 fit하는 것\n",
        "        X_train, Y_train, \n",
        "        batch_size=32, epochs=20, \n",
        "        # batch size : 총 n개의 데이터가 있을 때 몇개씩 잘라서 학습할 것인가?\n",
        "        # epochs : \n",
        "        verbose=1, \n",
        "        shuffle=True, validation_split=0.1\n",
        "    )\n",
        "    \n",
        "    model.evaluate(X_test, Y_test, verbose=1)     # 새로운 데이터가 들어왔을 때 새로운 이미지에 대한 적응을 평가하는 함수"
      ],
      "execution_count": 1,
      "outputs": [
        {
          "output_type": "stream",
          "text": [
            "Downloading data from https://www.cs.toronto.edu/~kriz/cifar-10-python.tar.gz\n",
            "170500096/170498071 [==============================] - 2s 0us/step\n",
            "Epoch 1/20\n",
            "1407/1407 [==============================] - 130s 92ms/step - loss: 1.7489 - accuracy: 0.4501 - val_loss: 1.2412 - val_accuracy: 0.5516\n",
            "Epoch 2/20\n",
            "1407/1407 [==============================] - 130s 92ms/step - loss: 1.1744 - accuracy: 0.5864 - val_loss: 1.1314 - val_accuracy: 0.5964\n",
            "Epoch 3/20\n",
            "1407/1407 [==============================] - 129s 92ms/step - loss: 1.0277 - accuracy: 0.6386 - val_loss: 1.0817 - val_accuracy: 0.6174\n",
            "Epoch 4/20\n",
            "1407/1407 [==============================] - 128s 91ms/step - loss: 0.9174 - accuracy: 0.6774 - val_loss: 1.1675 - val_accuracy: 0.6056\n",
            "Epoch 5/20\n",
            "1407/1407 [==============================] - 129s 91ms/step - loss: 0.8142 - accuracy: 0.7128 - val_loss: 1.1001 - val_accuracy: 0.6224\n",
            "Epoch 6/20\n",
            "1407/1407 [==============================] - 128s 91ms/step - loss: 0.7206 - accuracy: 0.7486 - val_loss: 1.0052 - val_accuracy: 0.6708\n",
            "Epoch 7/20\n",
            "1407/1407 [==============================] - 129s 92ms/step - loss: 0.6278 - accuracy: 0.7801 - val_loss: 1.0912 - val_accuracy: 0.6592\n",
            "Epoch 8/20\n",
            "1407/1407 [==============================] - 129s 92ms/step - loss: 0.5306 - accuracy: 0.8139 - val_loss: 1.0382 - val_accuracy: 0.6860\n",
            "Epoch 9/20\n",
            "1407/1407 [==============================] - 129s 92ms/step - loss: 0.4767 - accuracy: 0.8343 - val_loss: 1.0995 - val_accuracy: 0.6784\n",
            "Epoch 10/20\n",
            "1407/1407 [==============================] - 129s 92ms/step - loss: 0.3874 - accuracy: 0.8669 - val_loss: 1.2599 - val_accuracy: 0.6732\n",
            "Epoch 11/20\n",
            "1407/1407 [==============================] - 129s 92ms/step - loss: 0.3532 - accuracy: 0.8803 - val_loss: 1.3084 - val_accuracy: 0.6652\n",
            "Epoch 12/20\n",
            "1407/1407 [==============================] - 130s 92ms/step - loss: 0.3291 - accuracy: 0.8885 - val_loss: 1.4208 - val_accuracy: 0.6730\n",
            "Epoch 13/20\n",
            "1407/1407 [==============================] - 130s 92ms/step - loss: 0.2921 - accuracy: 0.9016 - val_loss: 1.5716 - val_accuracy: 0.6634\n",
            "Epoch 14/20\n",
            "1407/1407 [==============================] - 129s 91ms/step - loss: 0.2741 - accuracy: 0.9084 - val_loss: 1.5638 - val_accuracy: 0.6612\n",
            "Epoch 15/20\n",
            "1407/1407 [==============================] - 128s 91ms/step - loss: 0.2515 - accuracy: 0.9171 - val_loss: 1.8546 - val_accuracy: 0.6568\n",
            "Epoch 16/20\n",
            "1407/1407 [==============================] - 129s 92ms/step - loss: 0.2399 - accuracy: 0.9218 - val_loss: 2.0416 - val_accuracy: 0.6538\n",
            "Epoch 17/20\n",
            "1407/1407 [==============================] - 128s 91ms/step - loss: 0.2407 - accuracy: 0.9224 - val_loss: 1.7164 - val_accuracy: 0.6668\n",
            "Epoch 18/20\n",
            "1407/1407 [==============================] - 129s 91ms/step - loss: 0.2411 - accuracy: 0.9227 - val_loss: 1.9253 - val_accuracy: 0.6564\n",
            "Epoch 19/20\n",
            "1407/1407 [==============================] - 128s 91ms/step - loss: 0.2124 - accuracy: 0.9328 - val_loss: 1.8567 - val_accuracy: 0.6718\n",
            "Epoch 20/20\n",
            "1407/1407 [==============================] - 128s 91ms/step - loss: 0.2162 - accuracy: 0.9319 - val_loss: 1.9792 - val_accuracy: 0.6574\n",
            "313/313 [==============================] - 8s 25ms/step - loss: 2.1583 - accuracy: 0.6517\n"
          ],
          "name": "stdout"
        }
      ]
    },
    {
      "cell_type": "code",
      "metadata": {
        "id": "msSosdIPAzv7",
        "colab_type": "code",
        "colab": {
          "base_uri": "https://localhost:8080/",
          "height": 545
        },
        "outputId": "75e9d5f7-abb1-4b7c-c1f6-4e552262cf05"
      },
      "source": [
        "import matplotlib.pyplot as plt\n",
        "\n",
        "plt.plot(hist.history['loss'])\n",
        "plt.title(\"loss history\")\n",
        "plt.show()\n",
        "\n",
        "plt.plot(hist.history['accuracy'])\n",
        "plt.title(\"acc history\")\n",
        "plt.show()"
      ],
      "execution_count": 2,
      "outputs": [
        {
          "output_type": "display_data",
          "data": {
            "image/png": "[encoded data removed]",
            "text/plain": [
              "<Figure size 432x288 with 1 Axes>"
            ]
          },
          "metadata": {
            "tags": [],
            "needs_background": "light"
          }
        },
        {
          "output_type": "display_data",
          "data": {
            "image/png": "[encoded data removed]",
            "text/plain": [
              "<Figure size 432x288 with 1 Axes>"
            ]
          },
          "metadata": {
            "tags": [],
            "needs_background": "light"
          }
        }
      ]
    }
  ]
}