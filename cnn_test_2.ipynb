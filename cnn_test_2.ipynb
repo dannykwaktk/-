{
  "nbformat": 4,
  "nbformat_minor": 0,
  "metadata": {
    "colab": {
      "name": "cnn_test_2.ipynb",
      "provenance": [],
      "collapsed_sections": [],
      "authorship_tag": "ABX9TyOCuPJw38GuZCNENObVTCoI",
      "include_colab_link": true
    },
    "kernelspec": {
      "name": "python3",
      "display_name": "Python 3"
    }
  },
  "cells": [
    {
      "cell_type": "markdown",
      "metadata": {
        "id": "view-in-github",
        "colab_type": "text"
      },
      "source": [
        "<a href=\"https://colab.research.google.com/github/dannykwaktk/-/blob/master/cnn_test_2.ipynb\" target=\"_parent\"><img src=\"https://colab.research.google.com/assets/colab-badge.svg\" alt=\"Open In Colab\"/></a>"
      ]
    },
    {
      "cell_type": "code",
      "metadata": {
        "id": "Jy8J1766OJBt",
        "colab_type": "code",
        "colab": {
          "base_uri": "https://localhost:8080/",
          "height": 830
        },
        "outputId": "0c6b71c0-fb65-4e96-d5e5-c8d4afeb3cc7"
      },
      "source": [
        "import tensorflow as tf\n",
        "import keras \n",
        "\n",
        "from keras.models import Sequential\n",
        "from keras.layers import Conv2D, MaxPooling2D, Dense,Flatten, AveragePooling2D\n",
        "from keras.optimizers import Adam\n",
        "from keras.losses import sparse_categorical_crossentropy as scc\n",
        "from keras.datasets import cifar10\n",
        "\n",
        "import numpy as np\n",
        "\n",
        "def build_model(width, height, channel):\n",
        "    model = Sequential()      # 이 모델에 순차적으로 레이어를 쌓아가겠다(초기화)\n",
        "    \n",
        "    model.add(Conv2D(         # add : 모델에 요소를 하나씩 추가해주는 함수\n",
        "                              # Conv2D : \n",
        "        filters=16,           \n",
        "        kernel_size=(3,3),    # n*n에 해당하는 수\n",
        "        padding='same',\n",
        "        activation='relu',\n",
        "        input_shape=(width, height, channel)\n",
        "    ))\n",
        "    model.add(Conv2D(\n",
        "        filters=16,\n",
        "        kernel_size=(3,3),\n",
        "        padding='same',\n",
        "        activation='relu'\n",
        "    ))\n",
        "    model.add(MaxPooling2D(     # 2*2공간 안에 가장 큰 값, 거칠 때마다 이미지 크기가 반으로 줄어듦\n",
        "        pool_size=(2,2),        # 몇 곱하기 몇 공간에서 뽑을 것인가\n",
        "        padding='same'\n",
        "    ))\n",
        "\n",
        "    model.add(Conv2D(\n",
        "        filters=32,\n",
        "        kernel_size=(3,3),\n",
        "        padding='same',\n",
        "        activation='relu'\n",
        "    ))\n",
        "    model.add(Conv2D(\n",
        "        filters=64,\n",
        "        kernel_size=(3,3),\n",
        "        padding='same',\n",
        "        activation='relu'\n",
        "    ))\n",
        "    model.add(MaxPooling2D(\n",
        "        pool_size=(8,8),\n",
        "        padding='same'\n",
        "    ))\n",
        "\n",
        "    model.add(Flatten())\n",
        "    model.add(Dense(          \n",
        "        units=640,\n",
        "        activation='relu'\n",
        "    ))\n",
        "    model.add(Dense(\n",
        "        units=10,\n",
        "        activation='softmax'\n",
        "    ))\n",
        "\n",
        "    opt = Adam(learning_rate=0.001)\n",
        "    model.compile(            # 레이어로 만들어진 모델을 실행, 활용할 수 있는 상태로 만들어주는 함수\n",
        "        optimizer=opt,\n",
        "        loss=scc,\n",
        "        metrics=['accuracy']\n",
        "    )\n",
        "\n",
        "    return model\n",
        "\n",
        "def data_preprocessing():\n",
        "    (X_train, Y_train), (X_test, Y_test) = cifar10.load_data()\n",
        "\n",
        "    mean=[0,0,0]\n",
        "    std=[0,0,0]\n",
        "    newX_train = np.ones(X_train.shape)\n",
        "    newX_test = np.ones(X_test.shape)\n",
        "    #train set에 있는 데이터로만 평균과 표준편차를 구함\n",
        "    for i in range(3):\n",
        "        mean[i] = np.mean(X_train[:,:,:,i])\n",
        "        std[i] = np.std(X_train[:,:,:,i])\n",
        "\n",
        "    #train과 test셋 모두 정규화 작업    \n",
        "    for i in range(3):\n",
        "        newX_train[:,:,:,i] = X_train[:,:,:,i] - mean[i]\n",
        "        newX_train[:,:,:,i] = newX_train[:,:,:,i] / std[i]\n",
        "        newX_test[:,:,:,i] = X_test[:,:,:,i] - mean[i]\n",
        "        newX_test[:,:,:,i] = newX_test[:,:,:,i] / std[i]\n",
        "            \n",
        "    X_train = newX_train\n",
        "    X_test = newX_test\n",
        "\n",
        "    return (X_train, Y_train), (X_test, Y_test)\n",
        "\n",
        "if __name__ == \"__main__\":\n",
        "    #(X_train, Y_train), (X_test, Y_test) = data_preprocessing()\n",
        "    (X_train, Y_train), (X_test, Y_test) = cifar10.load_data()\n",
        "    model = build_model(X_train.shape[1], X_train.shape[2], X_train.shape[3])\n",
        "\n",
        "    hist = model.fit(                # 원하는 결과를 도출할 수 있도록 fit하는 것\n",
        "        X_train, Y_train, \n",
        "        batch_size=32, epochs=20, \n",
        "        # batch size : 총 n개의 데이터가 있을 때 몇개씩 잘라서 학습할 것인가?\n",
        "        # epochs : \n",
        "        verbose=1, \n",
        "        shuffle=True, validation_split=0.04\n",
        "    )\n",
        "    \n",
        "    model.evaluate(X_test, Y_test, verbose=1)     # 새로운 데이터가 들어왔을 때 새로운 이미지에 대한 적응을 평가하는 함수"
      ],
      "execution_count": 6,
      "outputs": [
        {
          "output_type": "stream",
          "text": [
            "Epoch 1/20\n",
            "1500/1500 [==============================] - 126s 84ms/step - loss: 1.7997 - accuracy: 0.4000 - val_loss: 1.3550 - val_accuracy: 0.5205\n",
            "Epoch 2/20\n",
            "1500/1500 [==============================] - 128s 85ms/step - loss: 1.2615 - accuracy: 0.5508 - val_loss: 1.1494 - val_accuracy: 0.5895\n",
            "Epoch 3/20\n",
            "1500/1500 [==============================] - 128s 85ms/step - loss: 1.1002 - accuracy: 0.6109 - val_loss: 1.0957 - val_accuracy: 0.6155\n",
            "Epoch 4/20\n",
            "1500/1500 [==============================] - 126s 84ms/step - loss: 1.0076 - accuracy: 0.6451 - val_loss: 1.0652 - val_accuracy: 0.6245\n",
            "Epoch 5/20\n",
            "1500/1500 [==============================] - 128s 85ms/step - loss: 0.9326 - accuracy: 0.6727 - val_loss: 0.9810 - val_accuracy: 0.6660\n",
            "Epoch 6/20\n",
            "1500/1500 [==============================] - 129s 86ms/step - loss: 0.8761 - accuracy: 0.6910 - val_loss: 1.0272 - val_accuracy: 0.6530\n",
            "Epoch 7/20\n",
            "1500/1500 [==============================] - 129s 86ms/step - loss: 0.8261 - accuracy: 0.7073 - val_loss: 1.0230 - val_accuracy: 0.6495\n",
            "Epoch 8/20\n",
            "1500/1500 [==============================] - 128s 85ms/step - loss: 0.7812 - accuracy: 0.7249 - val_loss: 0.9823 - val_accuracy: 0.6660\n",
            "Epoch 9/20\n",
            "1500/1500 [==============================] - 128s 85ms/step - loss: 0.7329 - accuracy: 0.7430 - val_loss: 1.0350 - val_accuracy: 0.6720\n",
            "Epoch 10/20\n",
            "1500/1500 [==============================] - 129s 86ms/step - loss: 0.6958 - accuracy: 0.7545 - val_loss: 1.0375 - val_accuracy: 0.6695\n",
            "Epoch 11/20\n",
            "1500/1500 [==============================] - 131s 87ms/step - loss: 0.6564 - accuracy: 0.7694 - val_loss: 1.0093 - val_accuracy: 0.6730\n",
            "Epoch 12/20\n",
            "1500/1500 [==============================] - 129s 86ms/step - loss: 0.6161 - accuracy: 0.7831 - val_loss: 0.9997 - val_accuracy: 0.6825\n",
            "Epoch 13/20\n",
            "1500/1500 [==============================] - 129s 86ms/step - loss: 0.5940 - accuracy: 0.7922 - val_loss: 1.0876 - val_accuracy: 0.6825\n",
            "Epoch 14/20\n",
            "1500/1500 [==============================] - 128s 86ms/step - loss: 0.5669 - accuracy: 0.7993 - val_loss: 1.1101 - val_accuracy: 0.6850\n",
            "Epoch 15/20\n",
            "1500/1500 [==============================] - 132s 88ms/step - loss: 0.5291 - accuracy: 0.8136 - val_loss: 1.1599 - val_accuracy: 0.6680\n",
            "Epoch 16/20\n",
            "1500/1500 [==============================] - 128s 85ms/step - loss: 0.5212 - accuracy: 0.8165 - val_loss: 1.0862 - val_accuracy: 0.6750\n",
            "Epoch 17/20\n",
            "1500/1500 [==============================] - 129s 86ms/step - loss: 0.5014 - accuracy: 0.8220 - val_loss: 1.1502 - val_accuracy: 0.6785\n",
            "Epoch 18/20\n",
            "1500/1500 [==============================] - 129s 86ms/step - loss: 0.4747 - accuracy: 0.8343 - val_loss: 1.2821 - val_accuracy: 0.6795\n",
            "Epoch 19/20\n",
            "1500/1500 [==============================] - 130s 86ms/step - loss: 0.4575 - accuracy: 0.8398 - val_loss: 1.3243 - val_accuracy: 0.6680\n",
            "Epoch 20/20\n",
            "1500/1500 [==============================] - 132s 88ms/step - loss: 0.4375 - accuracy: 0.8466 - val_loss: 1.3048 - val_accuracy: 0.6745\n",
            "313/313 [==============================] - 8s 25ms/step - loss: 1.3566 - accuracy: 0.6647\n"
          ],
          "name": "stdout"
        }
      ]
    },
    {
      "cell_type": "code",
      "metadata": {
        "id": "msSosdIPAzv7",
        "colab_type": "code",
        "colab": {
          "base_uri": "https://localhost:8080/",
          "height": 545
        },
        "outputId": "e90122ae-fe67-4e64-a5a4-e831f591aafd"
      },
      "source": [
        "import matplotlib.pyplot as plt\n",
        "\n",
        "plt.plot(hist.history['loss'])\n",
        "plt.title(\"loss history\")\n",
        "plt.show()\n",
        "\n",
        "plt.plot(hist.history['accuracy'])\n",
        "plt.title(\"acc history\")\n",
        "plt.show()"
      ],
      "execution_count": 7,
      "outputs": [
        {
          "output_type": "display_data",
          "data": {
            "image/png": "[encoded data removed]",
            "text/plain": [
              "<Figure size 432x288 with 1 Axes>"
            ]
          },
          "metadata": {
            "tags": [],
            "needs_background": "light"
          }
        },
        {
          "output_type": "display_data",
          "data": {
            "image/png": "[encoded data removed]",
            "text/plain": [
              "<Figure size 432x288 with 1 Axes>"
            ]
          },
          "metadata": {
            "tags": [],
            "needs_background": "light"
          }
        }
      ]
    }
  ]
}